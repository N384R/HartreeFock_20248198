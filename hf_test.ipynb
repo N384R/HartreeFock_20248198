{
 "cells": [
  {
   "cell_type": "code",
   "execution_count": 1,
   "metadata": {},
   "outputs": [
    {
     "name": "stdout",
     "output_type": "stream",
     "text": [
      "[[1.       0.728649]\n",
      " [0.728649 1.      ]]\n",
      "[{'symbol': 'H', 'coord': (0.0, 0.0, 0.0)}, {'symbol': 'H', 'coord': (0.0, 0.0, 1.2)}]\n",
      "{'alpha': array([[3.42525091, 0.62391373, 0.1688554 ],\n",
      "       [3.42525091, 0.62391373, 0.1688554 ]]), 'd': array([[0.15432897, 0.53532814, 0.44463454],\n",
      "       [0.15432897, 0.53532814, 0.44463454]])}\n"
     ]
    }
   ],
   "source": [
    "from quantum_calculation.hartree_fock import HartreeFock\n",
    "\n",
    "H2 = 'H 0.0 0.0 0.0; H 0.0 0.0 1.2'\n",
    "hf = HartreeFock(H2, 'sto-3g')\n",
    "print(hf.overlap)\n",
    "print(hf.coordinates)\n",
    "print(hf.basis_functions)"
   ]
  },
  {
   "cell_type": "code",
   "execution_count": null,
   "metadata": {},
   "outputs": [],
   "source": [
    "from quantum_calculation.hartree_fock import HartreeFock\n",
    "\n",
    "H2 = 'H 0.0 0.0 0.0; H 0.0 0.0 1.2'\n",
    "hf = HartreeFock(H2, '6-31g')\n",
    "print(hf.overlap)\n",
    "print(hf.coordinates)\n",
    "print(hf.basis_functions)"
   ]
  },
  {
   "cell_type": "code",
   "execution_count": 2,
   "metadata": {},
   "outputs": [
    {
     "name": "stdout",
     "output_type": "stream",
     "text": [
      "Basis set: 6-31G\n",
      "H (Charge: 1): {'S3': array([[18.73113696,  0.0334946 ],\n",
      "       [ 2.82539437,  0.23472695],\n",
      "       [ 0.64012169,  0.81375733]]), 'S1': array([[0.16127776, 1.        ]])}\n"
     ]
    }
   ],
   "source": [
    "from quantum_calculation.basis_set.basis_set import BasisSet\n",
    "\n",
    "\n",
    "basis_set = BasisSet('6-31G')\n",
    "basis_set.show_basis_set()"
   ]
  },
  {
   "cell_type": "code",
   "execution_count": 1,
   "metadata": {},
   "outputs": [
    {
     "name": "stdout",
     "output_type": "stream",
     "text": [
      "SCF converged energy: 0.41964757956917276\n",
      "-1.0089234204308273\n",
      "1.428571\n",
      "[[ 0.51439417 -2.12847875]\n",
      " [ 0.51439417  2.12847875]]\n"
     ]
    }
   ],
   "source": [
    "from quantum_calculation.hartree_fock import HartreeFock\n",
    "\n",
    "\n",
    "H2 = 'H 0.0 0.0 0.0; H 0.0 0.0 0.7'\n",
    "hf = HartreeFock(H2, 'sto-3g', spin=1)\n",
    "hf.rohf()\n",
    "\n",
    "print(hf.energy_elec)\n",
    "print(hf.nuclear_repulsion)\n",
    "print(hf.eigenvectors)"
   ]
  },
  {
   "cell_type": "code",
   "execution_count": 2,
   "metadata": {},
   "outputs": [
    {
     "name": "stdout",
     "output_type": "stream",
     "text": [
      "SCF converged energy: -0.40332637072663236\n",
      "SCF converged energy: 1.1154111250539103\n",
      "SCF converged energy: -0.7669180694239177\n",
      "SCF converged energy: 0.5499111408335651\n",
      "SCF converged energy: -0.9526635483432384\n",
      "SCF converged energy: 0.1743394060581187\n",
      "SCF converged energy: -1.0495504894693475\n",
      "SCF converged energy: -0.09224995299783756\n",
      "SCF converged energy: -1.0970975934796092\n",
      "SCF converged energy: -0.2877530698273\n",
      "SCF converged energy: -1.1154744645132406\n",
      "SCF converged energy: -0.4335488278709859\n",
      "SCF converged energy: -1.1161123898538572\n",
      "SCF converged energy: -0.5434510138542878\n",
      "SCF converged energy: -1.1058834820834758\n",
      "SCF converged energy: -0.6272062391004763\n",
      "SCF converged energy: -1.0889694616520154\n",
      "SCF converged energy: -0.6918396181911115\n",
      "SCF converged energy: -1.0679095640737937\n",
      "SCF converged energy: -0.7423487943790995\n",
      "SCF converged energy: -1.04430342099151\n",
      "SCF converged energy: -0.7822181236798034\n",
      "SCF converged energy: -1.0192144066198687\n",
      "SCF converged energy: -0.813891112483461\n",
      "SCF converged energy: -0.993423672340946\n",
      "SCF converged energy: -0.8391195699022929\n",
      "SCF converged energy: -0.967513501400227\n",
      "SCF converged energy: -0.8592051012572826\n",
      "SCF converged energy: -0.9419357664721889\n",
      "SCF converged energy: -0.8751733881722649\n",
      "SCF converged energy: -0.9170286350375787\n",
      "SCF converged energy: -0.8878297753499096\n",
      "SCF converged energy: -0.8930380189714071\n",
      "SCF converged energy: -0.8978335702507563\n",
      "SCF converged energy: -0.8701340282759948\n",
      "SCF converged energy: -0.905717865862115\n",
      "SCF converged energy: -0.8484265423903616\n",
      "SCF converged energy: -0.911911816725032\n",
      "SCF converged energy: -0.8279869511395923\n",
      "SCF converged energy: -0.916762472695775\n",
      "SCF converged energy: -0.8088422483090703\n",
      "SCF converged energy: -0.9205478808548062\n",
      "SCF converged energy: -0.7909980472074019\n",
      "SCF converged energy: -0.9234923861515074\n",
      "SCF converged energy: -0.77443426839069\n",
      "SCF converged energy: -0.9257766729502177\n",
      "SCF converged energy: -0.7591101260600122\n",
      "SCF converged energy: -0.9275406896957963\n",
      "SCF converged energy: -0.7449716360887769\n",
      "SCF converged energy: -0.928899109991927\n",
      "SCF converged energy: -0.7319610354717548\n",
      "SCF converged energy: -0.9299432342761785\n",
      "SCF converged energy: -0.7200107340655291\n",
      "SCF converged energy: -0.9307389409224326\n",
      "SCF converged energy: -0.7090568217337839\n",
      "SCF converged energy: -0.9313484656946487\n",
      "SCF converged energy: -0.6990263406625847\n",
      "SCF converged energy: -0.9318077232715885\n",
      "SCF converged energy: -0.6898561155994586\n",
      "SCF converged energy: -0.9321571232196985\n",
      "SCF converged energy: -0.6814831219793829\n",
      "SCF converged energy: -0.932419157030574\n",
      "SCF converged energy: -0.673845157813304\n",
      "SCF converged energy: -0.9326179078823753\n",
      "SCF converged energy: -0.6668853334588358\n",
      "SCF converged energy: -0.9327633785447866\n",
      "SCF converged energy: -0.6605459967059559\n",
      "SCF converged energy: -0.9328726353773207\n",
      "SCF converged energy: -0.6547812920557494\n",
      "SCF converged energy: -0.9329528241154841\n",
      "SCF converged energy: -0.6495359140504449\n",
      "SCF converged energy: -0.9330097959742137\n",
      "SCF converged energy: -0.6447709933827589\n",
      "SCF converged energy: -0.933052808756644\n",
      "SCF converged energy: -0.6404383072454454\n",
      "SCF converged energy: -0.9330846705367541\n",
      "SCF converged energy: -0.6365021338413192\n",
      "SCF converged energy: -0.9331091350185454\n",
      "SCF converged energy: -0.6329159162877249\n",
      "SCF converged energy: -0.9331244752979342\n",
      "SCF converged energy: -0.6296462586702821\n",
      "SCF converged energy: -0.9331347990854636\n",
      "SCF converged energy: -0.6266676988326131\n",
      "SCF converged energy: -0.9331443795330326\n",
      "SCF converged energy: -0.6239448614637095\n",
      "SCF converged energy: -0.9331498833152756\n",
      "SCF converged energy: -0.6214464731155367\n",
      "SCF converged energy: -0.9331545089544693\n",
      "SCF converged energy: -0.6191519160073665\n",
      "SCF converged energy: -0.9331571062069937\n",
      "SCF converged energy: -0.6170426469745873\n",
      "SCF converged energy: -0.9331592690933423\n",
      "SCF converged energy: -0.6150908110615891\n",
      "SCF converged energy: -0.9331584419759527\n",
      "SCF converged energy: -0.6132820823991452\n",
      "SCF converged energy: -0.9331619332106947\n",
      "SCF converged energy: -0.6116034939453792\n",
      "SCF converged energy: -0.9331629424292298\n",
      "SCF converged energy: -0.6100403710956159\n",
      "SCF converged energy: -0.9331626277352172\n"
     ]
    },
    {
     "data": {
      "text/plain": [
       "[<matplotlib.lines.Line2D at 0x1e9b84c9490>]"
      ]
     },
     "execution_count": 2,
     "metadata": {},
     "output_type": "execute_result"
    },
    {
     "data": {
      "image/png": "[encoded data removed]",
      "text/plain": [
       "<Figure size 432x288 with 1 Axes>"
      ]
     },
     "metadata": {
      "needs_background": "light"
     },
     "output_type": "display_data"
    }
   ],
   "source": [
    "import numpy as np\n",
    "import matplotlib.pyplot as plt\n",
    "from quantum_calculation.hartree_fock import HartreeFock\n",
    "\n",
    "bond_length = np.linspace(0.5, 8.0, 50)\n",
    "\n",
    "rhf_energy = []\n",
    "rohf_energy = []\n",
    "for r in bond_length:\n",
    "    H2 = f'H 0.0 0.0 0.0; H 0.0 0.0 {r}'\n",
    "    hf = HartreeFock(H2, 'sto-3g')\n",
    "    hf.rhf()\n",
    "    rhf_energy.append(hf.energy_total)\n",
    "\n",
    "    hf = HartreeFock(H2, 'sto-3g', spin=1)\n",
    "    hf.rohf()\n",
    "    rohf_energy.append(hf.energy_total)\n",
    "\n",
    "plt.plot(bond_length, rhf_energy)\n",
    "plt.plot(bond_length, rohf_energy)"
   ]
  },
  {
   "cell_type": "markdown",
   "metadata": {},
   "source": [
    "지금 생각난 것:\n",
    "\n",
    "1. Mol class, HF class 따로 만들기\n",
    "2. __rhf(params), __rohf(params) 함수 따로 만들기\n",
    "3. params에는 overlap, kinetic 등의 행렬이 포함된 딕셔너리 또는 컨테이너 클래스\n",
    "4. ROHF에서 unpaired spin 개수가 곧 open shell electron 개수니까 그냥 빼면 됨"
   ]
  }
 ],
 "metadata": {
  "kernelspec": {
   "display_name": "base",
   "language": "python",
   "name": "python3"
  },
  "language_info": {
   "codemirror_mode": {
    "name": "ipython",
    "version": 3
   },
   "file_extension": ".py",
   "mimetype": "text/x-python",
   "name": "python",
   "nbconvert_exporter": "python",
   "pygments_lexer": "ipython3",
   "version": "3.11.7"
  }
 },
 "nbformat": 4,
 "nbformat_minor": 2
}
