{
 "cells": [
  {
   "cell_type": "code",
   "execution_count": 1,
   "metadata": {},
   "outputs": [
    {
     "name": "stdout",
     "output_type": "stream",
     "text": [
      "[[1.       0.728649]\n",
      " [0.728649 1.      ]]\n",
      "[{'symbol': 'H', 'coord': (0.0, 0.0, 0.0)}, {'symbol': 'H', 'coord': (0.0, 0.0, 1.2)}]\n",
      "{'alpha': array([[3.42525091, 0.62391373, 0.1688554 ],\n",
      "       [3.42525091, 0.62391373, 0.1688554 ]]), 'd': array([[0.15432897, 0.53532814, 0.44463454],\n",
      "       [0.15432897, 0.53532814, 0.44463454]])}\n"
     ]
    }
   ],
   "source": [
    "from quantum_calculation.hartree_fock import HartreeFock\n",
    "\n",
    "H2 = 'H 0.0 0.0 0.0; H 0.0 0.0 1.2'\n",
    "hf = HartreeFock(H2, 'sto-3g')\n",
    "print(hf.overlap)\n",
    "print(hf.coordinates)\n",
    "print(hf.basis_functions)"
   ]
  },
  {
   "cell_type": "code",
   "execution_count": null,
   "metadata": {},
   "outputs": [],
   "source": [
    "from quantum_calculation.hartree_fock import HartreeFock\n",
    "\n",
    "H2 = 'H 0.0 0.0 0.0; H 0.0 0.0 1.2'\n",
    "hf = HartreeFock(H2, '6-31g')\n",
    "print(hf.overlap)\n",
    "print(hf.coordinates)\n",
    "print(hf.basis_functions)"
   ]
  },
  {
   "cell_type": "code",
   "execution_count": 2,
   "metadata": {},
   "outputs": [
    {
     "name": "stdout",
     "output_type": "stream",
     "text": [
      "Basis set: 6-31G\n",
      "H (Charge: 1): {'S3': array([[18.73113696,  0.0334946 ],\n",
      "       [ 2.82539437,  0.23472695],\n",
      "       [ 0.64012169,  0.81375733]]), 'S1': array([[0.16127776, 1.        ]])}\n"
     ]
    }
   ],
   "source": [
    "from quantum_calculation.basis_set.basis_set import BasisSet\n",
    "\n",
    "\n",
    "basis_set = BasisSet('6-31G')\n",
    "basis_set.show_basis_set()"
   ]
  },
  {
   "cell_type": "code",
   "execution_count": 2,
   "metadata": {},
   "outputs": [
    {
     "name": "stdout",
     "output_type": "stream",
     "text": [
      "SCF converged energy: 2.366568400695483\n",
      "0.9379974006954829\n",
      "2.366568400695483\n",
      "1.428571\n"
     ]
    }
   ],
   "source": [
    "from quantum_calculation.hartree_fock import HartreeFock\n",
    "\n",
    "\n",
    "H2 = 'H 0.0 0.0 0.0; H 0.0 0.0 0.7'\n",
    "hf = HartreeFock(H2, 'sto-3g')\n",
    "hf.rohf()\n",
    "\n",
    "print(hf.energy_elec)\n",
    "print(hf.energy_total)\n",
    "print(hf.nuclear_repulsion)"
   ]
  },
  {
   "cell_type": "code",
   "execution_count": null,
   "metadata": {},
   "outputs": [
    {
     "name": "stdout",
     "output_type": "stream",
     "text": [
      "SCF converged energy: -0.40332637072663236\n",
      "SCF converged energy: 3.103415237714141\n",
      "SCF converged energy: -0.7669180694239177\n",
      "SCF converged energy: 2.507046084257704\n",
      "SCF converged energy: -0.9526635483432384\n",
      "SCF converged energy: 2.0971056679049136\n",
      "SCF converged energy: -1.0495504894693475\n",
      "SCF converged energy: 1.7944185162457835\n",
      "SCF converged energy: -1.0970975934796092\n",
      "SCF converged energy: 1.5624040065025018\n",
      "SCF converged energy: -1.1154744645132406\n",
      "SCF converged energy: 1.380610916138691\n",
      "SCF converged energy: -1.1161123898538572\n",
      "SCF converged energy: 1.235673280379199\n",
      "SCF converged energy: -1.1058834820834758\n",
      "SCF converged energy: 1.1181390596599106\n",
      "SCF converged energy: -1.0889694616520154\n",
      "SCF converged energy: 1.0211352754711998\n",
      "SCF converged energy: -1.0679095640737937\n",
      "SCF converged energy: 0.9397466208098669\n",
      "SCF converged energy: -1.04430342099151\n",
      "SCF converged energy: 0.870585212404877\n",
      "SCF converged energy: -1.0192144066198687\n",
      "SCF converged energy: 0.8112616919051985\n",
      "SCF converged energy: -0.993423672340946\n",
      "SCF converged energy: 0.7600769204206506\n",
      "SCF converged energy: -0.967513501400227\n",
      "SCF converged energy: 0.7157546281430087\n",
      "SCF converged energy: -0.9419357664721889\n",
      "SCF converged energy: 0.6772505413604837\n",
      "SCF converged energy: -0.9170286350375787\n",
      "SCF converged energy: 0.6437299398039524\n"
     ]
    }
   ],
   "source": [
    "import numpy as np\n",
    "import matplotlib.pyplot as plt\n",
    "from quantum_calculation.hartree_fock import HartreeFock\n",
    "\n",
    "bond_length = np.linspace(0.5, 8.0, 50)\n",
    "\n",
    "rhf_energy = []\n",
    "rohf_energy = []\n",
    "for r in bond_length:\n",
    "    H2 = f'H 0.0 0.0 0.0; H 0.0 0.0 {r}'\n",
    "    hf = HartreeFock(H2, 'sto-3g')\n",
    "    hf.rhf()\n",
    "    rhf_energy.append(hf.energy_total)\n",
    "\n",
    "    hf = HartreeFock(H2, 'sto-3g')\n",
    "    hf.rohf()\n",
    "    rohf_energy.append(hf.energy_total)\n",
    "\n",
    "plt.plot(bond_length, rhf_energy)\n",
    "plt.plot(bond_length, rohf_energy)"
   ]
  },
  {
   "cell_type": "markdown",
   "metadata": {},
   "source": [
    "지금 생각난 것:\n",
    "\n",
    "1. Mol class, HF class 따로 만들기\n",
    "2. __rhf(params), __rohf(params) 함수 따로 만들기\n",
    "3. params에는 overlap, kinetic 등의 행렬이 포함된 딕셔너리 또는 컨테이너 클래스\n",
    "4. ROHF에서 unpaired spin 개수가 곧 open shell electron 개수니까 그냥 빼면 됨"
   ]
  }
 ],
 "metadata": {
  "kernelspec": {
   "display_name": "base",
   "language": "python",
   "name": "python3"
  },
  "language_info": {
   "codemirror_mode": {
    "name": "ipython",
    "version": 3
   },
   "file_extension": ".py",
   "mimetype": "text/x-python",
   "name": "python",
   "nbconvert_exporter": "python",
   "pygments_lexer": "ipython3",
   "version": "3.11.7"
  }
 },
 "nbformat": 4,
 "nbformat_minor": 2
}
