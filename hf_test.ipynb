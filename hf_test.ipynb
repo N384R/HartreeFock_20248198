{
 "cells": [
  {
   "cell_type": "code",
   "execution_count": 1,
   "metadata": {},
   "outputs": [
    {
     "name": "stdout",
     "output_type": "stream",
     "text": [
      "[[1.       0.728649]\n",
      " [0.728649 1.      ]]\n",
      "[{'symbol': 'H', 'coord': (0.0, 0.0, 0.0)}, {'symbol': 'H', 'coord': (0.0, 0.0, 1.2)}]\n",
      "{'alpha': array([[3.42525091, 0.62391373, 0.1688554 ],\n",
      "       [3.42525091, 0.62391373, 0.1688554 ]]), 'd': array([[0.15432897, 0.53532814, 0.44463454],\n",
      "       [0.15432897, 0.53532814, 0.44463454]])}\n"
     ]
    }
   ],
   "source": [
    "from quantum_calculation.hartree_fock import HartreeFock\n",
    "\n",
    "H2 = 'H 0.0 0.0 0.0; H 0.0 0.0 1.2'\n",
    "hf = HartreeFock(H2, 'sto-3g')\n",
    "print(hf.overlap)\n",
    "print(hf.coordinates)\n",
    "print(hf.basis_functions)"
   ]
  },
  {
   "cell_type": "code",
   "execution_count": null,
   "metadata": {},
   "outputs": [],
   "source": [
    "from quantum_calculation.hartree_fock import HartreeFock\n",
    "\n",
    "H2 = 'H 0.0 0.0 0.0; H 0.0 0.0 1.2'\n",
    "hf = HartreeFock(H2, '6-31g')\n",
    "print(hf.overlap)\n",
    "print(hf.coordinates)\n",
    "print(hf.basis_functions)"
   ]
  },
  {
   "cell_type": "code",
   "execution_count": 2,
   "metadata": {},
   "outputs": [
    {
     "name": "stdout",
     "output_type": "stream",
     "text": [
      "Basis set: 6-31G\n",
      "H (Charge: 1): {'S3': array([[18.73113696,  0.0334946 ],\n",
      "       [ 2.82539437,  0.23472695],\n",
      "       [ 0.64012169,  0.81375733]]), 'S1': array([[0.16127776, 1.        ]])}\n"
     ]
    }
   ],
   "source": [
    "from quantum_calculation.basis_set.basis_set import BasisSet\n",
    "\n",
    "\n",
    "basis_set = BasisSet('6-31G')\n",
    "basis_set.show_basis_set()"
   ]
  },
  {
   "cell_type": "code",
   "execution_count": 2,
   "metadata": {},
   "outputs": [
    {
     "name": "stdout",
     "output_type": "stream",
     "text": [
      "SCF converged energy: 2.366568400695483\n",
      "0.9379974006954829\n",
      "2.366568400695483\n",
      "1.428571\n"
     ]
    }
   ],
   "source": [
    "from quantum_calculation.hartree_fock import HartreeFock\n",
    "\n",
    "\n",
    "H2 = 'H 0.0 0.0 0.0; H 0.0 0.0 0.7'\n",
    "hf = HartreeFock(H2, 'sto-3g')\n",
    "hf.rohf()\n",
    "\n",
    "print(hf.energy_elec)\n",
    "print(hf.energy_total)\n",
    "print(hf.nuclear_repulsion)"
   ]
  },
  {
   "cell_type": "code",
   "execution_count": 4,
   "metadata": {},
   "outputs": [
    {
     "name": "stdout",
     "output_type": "stream",
     "text": [
      "SCF converged energy: -0.40332637072663236\n",
      "SCF converged energy: 3.103415237714141\n",
      "SCF converged energy: -0.7669180694239177\n",
      "SCF converged energy: 2.507046084257704\n",
      "SCF converged energy: -0.9526635483432384\n",
      "SCF converged energy: 2.0971056679049136\n",
      "SCF converged energy: -1.0495504894693475\n",
      "SCF converged energy: 1.7944185162457835\n",
      "SCF converged energy: -1.0970975934796092\n",
      "SCF converged energy: 1.5624040065025018\n",
      "SCF converged energy: -1.1154744645132406\n",
      "SCF converged energy: 1.380610916138691\n",
      "SCF converged energy: -1.1161123898538572\n",
      "SCF converged energy: 1.235673280379199\n",
      "SCF converged energy: -1.1058834820834758\n",
      "SCF converged energy: 1.1181390596599106\n",
      "SCF converged energy: -1.0889694616520154\n",
      "SCF converged energy: 1.0211352754711998\n",
      "SCF converged energy: -1.0679095640737937\n",
      "SCF converged energy: 0.9397466208098669\n",
      "SCF converged energy: -1.04430342099151\n",
      "SCF converged energy: 0.870585212404877\n",
      "SCF converged energy: -1.0192144066198687\n",
      "SCF converged energy: 0.8112616919051985\n",
      "SCF converged energy: -0.993423672340946\n",
      "SCF converged energy: 0.7600769204206506\n",
      "SCF converged energy: -0.967513501400227\n",
      "SCF converged energy: 0.7157546281430087\n",
      "SCF converged energy: -0.9419357664721889\n",
      "SCF converged energy: 0.6772505413604837\n",
      "SCF converged energy: -0.9170286350375787\n",
      "SCF converged energy: 0.6437299398039524\n",
      "SCF converged energy: -0.8930380189714071\n",
      "SCF converged energy: 0.6144700930173345\n",
      "SCF converged energy: -0.8701340282759948\n",
      "SCF converged energy: 0.5888552133297583\n",
      "SCF converged energy: -0.8484265423903616\n",
      "SCF converged energy: 0.5663621258478757\n",
      "SCF converged energy: -0.8279869511395923\n",
      "SCF converged energy: 0.5465413792400824\n",
      "SCF converged energy: -0.8088422483090703\n",
      "SCF converged energy: 0.5290089216575318\n",
      "SCF converged energy: -0.7909980472074019\n",
      "SCF converged energy: 0.5134349369119009\n",
      "SCF converged energy: -0.77443426839069\n",
      "SCF converged energy: 0.49953963323452255\n",
      "SCF converged energy: -0.7591101260600122\n",
      "SCF converged energy: 0.4870884142687739\n",
      "SCF converged energy: -0.7449716360887769\n",
      "SCF converged energy: 0.4758758483541735\n",
      "SCF converged energy: -0.7319610354717548\n",
      "SCF converged energy: 0.46572984869491874\n",
      "SCF converged energy: -0.7200107340655291\n",
      "SCF converged energy: 0.45651091988913195\n",
      "SCF converged energy: -0.7090568217337839\n",
      "SCF converged energy: 0.44808794745687397\n",
      "SCF converged energy: -0.6990263406625847\n",
      "SCF converged energy: 0.4403664676569279\n",
      "SCF converged energy: -0.6898561155994586\n",
      "SCF converged energy: 0.4332502565944908\n",
      "SCF converged energy: -0.6814831219793829\n",
      "SCF converged energy: 0.42666830150882296\n",
      "SCF converged energy: -0.673845157813304\n",
      "SCF converged energy: 0.4205532387000671\n",
      "SCF converged energy: -0.6668853334588358\n",
      "SCF converged energy: 0.41485573605489173\n",
      "SCF converged energy: -0.6605459967059559\n",
      "SCF converged energy: 0.4095252790289122\n",
      "SCF converged energy: -0.6547812920557494\n",
      "SCF converged energy: 0.4045235366768464\n",
      "SCF converged energy: -0.6495359140504449\n",
      "SCF converged energy: 0.3998192494660754\n",
      "SCF converged energy: -0.6447709933827589\n",
      "SCF converged energy: 0.39537807067615865\n",
      "SCF converged energy: -0.6404383072454454\n",
      "SCF converged energy: 0.3911763448476409\n",
      "SCF converged energy: -0.6365021338413192\n",
      "SCF converged energy: 0.3871920769281226\n",
      "SCF converged energy: -0.6329159162877249\n",
      "SCF converged energy: 0.3834103757945273\n",
      "SCF converged energy: -0.6296462586702821\n",
      "SCF converged energy: 0.37981281473461986\n",
      "SCF converged energy: -0.6266676988326131\n",
      "SCF converged energy: 0.37638115545985784\n",
      "SCF converged energy: -0.6239448614637095\n",
      "SCF converged energy: 0.3731074289468548\n",
      "SCF converged energy: -0.6214464731155367\n",
      "SCF converged energy: 0.3699773378017413\n",
      "SCF converged energy: -0.6191519160073665\n",
      "SCF converged energy: 0.3669835706941138\n",
      "SCF converged energy: -0.6170426469745873\n",
      "SCF converged energy: 0.36411467657749735\n",
      "SCF converged energy: -0.6150908110615891\n",
      "SCF converged energy: 0.36136642990924495\n",
      "SCF converged energy: -0.6132820823991452\n",
      "SCF converged energy: 0.3587228493754947\n",
      "SCF converged energy: -0.6116034939453792\n",
      "SCF converged energy: 0.35618609225116593\n",
      "SCF converged energy: -0.6100403710956159\n",
      "SCF converged energy: 0.35374740149517026\n"
     ]
    },
    {
     "data": {
      "text/plain": [
       "[<matplotlib.lines.Line2D at 0x14703145c10>]"
      ]
     },
     "execution_count": 4,
     "metadata": {},
     "output_type": "execute_result"
    },
    {
     "data": {
      "image/png": "[encoded data removed]",
      "text/plain": [
       "<Figure size 432x288 with 1 Axes>"
      ]
     },
     "metadata": {
      "needs_background": "light"
     },
     "output_type": "display_data"
    }
   ],
   "source": [
    "import numpy as np\n",
    "import matplotlib.pyplot as plt\n",
    "from quantum_calculation.hartree_fock import HartreeFock\n",
    "\n",
    "bond_length = np.linspace(0.5, 8.0, 50)\n",
    "\n",
    "rhf_energy = []\n",
    "rohf_energy = []\n",
    "for r in bond_length:\n",
    "    H2 = f'H 0.0 0.0 0.0; H 0.0 0.0 {r}'\n",
    "    hf = HartreeFock(H2, 'sto-3g')\n",
    "    hf.rhf()\n",
    "    rhf_energy.append(hf.energy_total)\n",
    "\n",
    "    hf = HartreeFock(H2, 'sto-3g')\n",
    "    hf.rohf()\n",
    "    rohf_energy.append(hf.energy_total)\n",
    "\n",
    "plt.plot(bond_length, rhf_energy)\n",
    "plt.plot(bond_length, rohf_energy)"
   ]
  },
  {
   "cell_type": "markdown",
   "metadata": {},
   "source": [
    "지금 생각난 것:\n",
    "\n",
    "1. Mol class, HF class 따로 만들기\n",
    "2. __rhf(params), __rohf(params) 함수 따로 만들기\n",
    "3. params에는 overlap, kinetic 등의 행렬이 포함된 딕셔너리 또는 컨테이너 클래스\n",
    "4. ROHF에서 unpaired spin 개수가 곧 open shell electron 개수니까 그냥 빼면 됨"
   ]
  }
 ],
 "metadata": {
  "kernelspec": {
   "display_name": "base",
   "language": "python",
   "name": "python3"
  },
  "language_info": {
   "codemirror_mode": {
    "name": "ipython",
    "version": 3
   },
   "file_extension": ".py",
   "mimetype": "text/x-python",
   "name": "python",
   "nbconvert_exporter": "python",
   "pygments_lexer": "ipython3",
   "version": "3.11.7"
  }
 },
 "nbformat": 4,
 "nbformat_minor": 2
}
