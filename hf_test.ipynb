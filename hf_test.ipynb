{
 "cells": [
  {
   "cell_type": "code",
   "execution_count": 1,
   "metadata": {},
   "outputs": [
    {
     "name": "stdout",
     "output_type": "stream",
     "text": [
      "[[1.       0.728649]\n",
      " [0.728649 1.      ]]\n",
      "[{'symbol': 'H', 'coord': (0.0, 0.0, 0.0)}, {'symbol': 'H', 'coord': (0.0, 0.0, 1.2)}]\n",
      "{'alpha': array([[3.42525091, 0.62391373, 0.1688554 ],\n",
      "       [3.42525091, 0.62391373, 0.1688554 ]]), 'd': array([[0.15432897, 0.53532814, 0.44463454],\n",
      "       [0.15432897, 0.53532814, 0.44463454]])}\n"
     ]
    }
   ],
   "source": [
    "from quantum_calculation.hartree_fock import HartreeFock\n",
    "\n",
    "H2 = 'H 0.0 0.0 0.0; H 0.0 0.0 1.2'\n",
    "hf = HartreeFock(H2, 'sto-3g')\n",
    "print(hf.overlap)\n",
    "print(hf.coordinates)\n",
    "print(hf.basis_functions)"
   ]
  },
  {
   "cell_type": "code",
   "execution_count": null,
   "metadata": {},
   "outputs": [],
   "source": [
    "from quantum_calculation.hartree_fock import HartreeFock\n",
    "\n",
    "H2 = 'H 0.0 0.0 0.0; H 0.0 0.0 1.2'\n",
    "hf = HartreeFock(H2, '6-31g')\n",
    "print(hf.overlap)\n",
    "print(hf.coordinates)\n",
    "print(hf.basis_functions)"
   ]
  },
  {
   "cell_type": "code",
   "execution_count": 2,
   "metadata": {},
   "outputs": [
    {
     "name": "stdout",
     "output_type": "stream",
     "text": [
      "Basis set: 6-31G\n",
      "H (Charge: 1): {'S3': array([[18.73113696,  0.0334946 ],\n",
      "       [ 2.82539437,  0.23472695],\n",
      "       [ 0.64012169,  0.81375733]]), 'S1': array([[0.16127776, 1.        ]])}\n"
     ]
    }
   ],
   "source": [
    "from quantum_calculation.basis_set.basis_set import BasisSet\n",
    "\n",
    "\n",
    "basis_set = BasisSet('6-31G')\n",
    "basis_set.show_basis_set()"
   ]
  },
  {
   "cell_type": "code",
   "execution_count": 2,
   "metadata": {},
   "outputs": [
    {
     "name": "stdout",
     "output_type": "stream",
     "text": [
      "SCF converged energy: 2.366568400695483\n",
      "0.9379974006954829\n",
      "2.366568400695483\n",
      "1.428571\n"
     ]
    }
   ],
   "source": [
    "from quantum_calculation.hartree_fock import HartreeFock\n",
    "\n",
    "\n",
    "H2 = 'H 0.0 0.0 0.0; H 0.0 0.0 0.7'\n",
    "hf = HartreeFock(H2, 'sto-3g')\n",
    "hf.rohf()\n",
    "\n",
    "print(hf.energy_elec)\n",
    "print(hf.energy_total)\n",
    "print(hf.nuclear_repulsion)"
   ]
  },
  {
   "cell_type": "code",
   "execution_count": null,
   "metadata": {},
   "outputs": [
    {
     "name": "stdout",
     "output_type": "stream",
     "text": [
      "SCF converged energy: -0.40332637072663236\n",
      "SCF converged energy: 3.103415237714141\n",
      "SCF converged energy: -0.5538532389511965\n",
      "SCF converged energy: 2.87532539876191\n",
      "SCF converged energy: -0.6724949158400284\n",
      "SCF converged energy: 2.678822973788244\n",
      "SCF converged energy: -0.7669180694239177\n",
      "SCF converged energy: 2.507046084257704\n",
      "SCF converged energy: -0.8425956765201215\n",
      "SCF converged energy: 2.354959677892509\n",
      "SCF converged energy: -0.9035185536470525\n",
      "SCF converged energy: 2.219277902927395\n",
      "SCF converged energy: -0.9526635483432384\n",
      "SCF converged energy: 2.0971056679049136\n",
      "SCF converged energy: -0.9922857479578213\n",
      "SCF converged energy: 1.9866225499576986\n",
      "SCF converged energy: -1.0241282791802333\n",
      "SCF converged energy: 1.8861159747675924\n",
      "SCF converged energy: -1.0495504894693475\n",
      "SCF converged energy: 1.7944185162457835\n",
      "SCF converged energy: -1.0696325658505876\n",
      "SCF converged energy: 1.710469039665747\n",
      "SCF converged energy: -1.0852457774496598\n",
      "SCF converged energy: 1.6333658350107596\n",
      "SCF converged energy: -1.0970975934796092\n",
      "SCF converged energy: 1.5624040065025018\n",
      "SCF converged energy: -1.1057765577112835\n",
      "SCF converged energy: 1.4969881539139673\n",
      "SCF converged energy: -1.1117649788913935\n",
      "SCF converged energy: 1.4365389234117074\n",
      "SCF converged energy: -1.1154744645132406\n",
      "SCF converged energy: 1.380610916138691\n",
      "SCF converged energy: -1.117246125684957\n",
      "SCF converged energy: 1.3287135767290044\n",
      "SCF converged energy: -1.1173773207678046\n",
      "SCF converged energy: 1.2805227734945412\n",
      "SCF converged energy: -1.1161123898538572\n",
      "SCF converged energy: 1.235673280379199\n",
      "SCF converged energy: -1.1136600375240495\n",
      "SCF converged energy: 1.1938346510051172\n",
      "SCF converged energy: -1.1102010671306761\n",
      "SCF converged energy: 1.1547395049707836\n",
      "SCF converged energy: -1.1058834820834758\n",
      "SCF converged energy: 1.1181390596599106\n",
      "SCF converged energy: -1.1008376306728618\n",
      "SCF converged energy: 1.0838052164758327\n",
      "SCF converged energy: -1.095169371258787\n",
      "SCF converged energy: 1.0515214807450204\n",
      "SCF converged energy: -1.0889694616520154\n",
      "SCF converged energy: 1.0211352754711998\n",
      "SCF converged energy: -1.0823171112895191\n",
      "SCF converged energy: 0.9924606726415144\n",
      "SCF converged energy: -1.0752765228852268\n",
      "SCF converged energy: 0.96537663535976\n",
      "SCF converged energy: -1.0679095640737937\n",
      "SCF converged energy: 0.9397466208098669\n",
      "SCF converged energy: -1.0602630578036811\n",
      "SCF converged energy: 0.9154717190496078\n",
      "SCF converged energy: -1.0523808332773026\n",
      "SCF converged energy: 0.8924422991261886\n",
      "SCF converged energy: -1.04430342099151\n",
      "SCF converged energy: 0.870585212404877\n",
      "SCF converged energy: -1.0360607588332023\n",
      "SCF converged energy: 0.8498058228826644\n",
      "SCF converged energy: -1.0276883598263886\n",
      "SCF converged energy: 0.8300580418086649\n",
      "SCF converged energy: -1.0192144066198687\n",
      "SCF converged energy: 0.8112616919051985\n",
      "SCF converged energy: -1.0106627319761383\n",
      "SCF converged energy: 0.7933696312962828\n",
      "SCF converged energy: -1.0020589565707394\n",
      "SCF converged energy: 0.7763230307225462\n",
      "SCF converged energy: -0.993423672340946\n",
      "SCF converged energy: 0.7600769204206506\n",
      "SCF converged energy: -0.984775129848914\n",
      "SCF converged energy: 0.7445940095005006\n",
      "SCF converged energy: -0.9761323529462034\n",
      "SCF converged energy: 0.7298323252630411\n",
      "SCF converged energy: -0.967513501400227\n",
      "SCF converged energy: 0.7157546281430087\n",
      "SCF converged energy: -0.9589331075078716\n",
      "SCF converged energy: 0.7023173019905027\n",
      "SCF converged energy: -0.950401971138324\n",
      "SCF converged energy: 0.6894951509414126\n",
      "SCF converged energy: -0.9419357664721889\n",
      "SCF converged energy: 0.6772505413604837\n",
      "SCF converged energy: -0.9335473215046791\n",
      "SCF converged energy: 0.6655606085211164\n",
      "SCF converged energy: -0.9252390343660115\n",
      "SCF converged energy: 0.6543967359832602\n",
      "SCF converged energy: -0.9170286350375787\n",
      "SCF converged energy: 0.6437299398039524\n",
      "SCF converged energy: -0.9089208180221537\n",
      "SCF converged energy: 0.6335346938081154\n",
      "SCF converged energy: -0.9009198769873794\n",
      "SCF converged energy: 0.623788257814579\n",
      "SCF converged energy: -0.8930380189714071\n",
      "SCF converged energy: 0.6144700930173345\n",
      "SCF converged energy: -0.8852753339482625\n",
      "SCF converged energy: 0.6055517691022616\n"
     ]
    },
    {
     "data": {
      "text/plain": [
       "[<matplotlib.lines.Line2D at 0x298d11f5650>]"
      ]
     },
     "execution_count": 1,
     "metadata": {},
     "output_type": "execute_result"
    },
    {
     "data": {
      "image/png": "[encoded data removed]",
      "text/plain": [
       "<Figure size 432x288 with 1 Axes>"
      ]
     },
     "metadata": {
      "needs_background": "light"
     },
     "output_type": "display_data"
    }
   ],
   "source": [
    "import numpy as np\n",
    "import matplotlib.pyplot as plt\n",
    "from quantum_calculation.hartree_fock import HartreeFock\n",
    "\n",
    "bond_length = np.linspace(0.5, 8.0, 50)\n",
    "\n",
    "rhf_energy = []\n",
    "rohf_energy = []\n",
    "for r in bond_length:\n",
    "    H2 = f'H 0.0 0.0 0.0; H 0.0 0.0 {r}'\n",
    "    hf = HartreeFock(H2, 'sto-3g')\n",
    "    hf.rhf()\n",
    "    rhf_energy.append(hf.energy)\n",
    "\n",
    "    hf = HartreeFock(H2, 'sto-3g')\n",
    "    hf.rohf()\n",
    "    rohf_energy.append(hf.energy)\n",
    "\n",
    "plt.plot(bond_length, rhf_energy)\n",
    "plt.plot(bond_length, rohf_energy)"
   ]
  },
  {
   "cell_type": "markdown",
   "metadata": {},
   "source": [
    "지금 생각난 것:\n",
    "\n",
    "1. Mol class, HF class 따로 만들기\n",
    "2. __rhf(params), __rohf(params) 함수 따로 만들기\n",
    "3. params에는 overlap, kinetic 등의 행렬이 포함된 딕셔너리 또는 컨테이너 클래스\n",
    "4. ROHF에서 unpaired spin 개수가 곧 open shell electron 개수니까 그냥 빼면 됨"
   ]
  }
 ],
 "metadata": {
  "kernelspec": {
   "display_name": "base",
   "language": "python",
   "name": "python3"
  },
  "language_info": {
   "codemirror_mode": {
    "name": "ipython",
    "version": 3
   },
   "file_extension": ".py",
   "mimetype": "text/x-python",
   "name": "python",
   "nbconvert_exporter": "python",
   "pygments_lexer": "ipython3",
   "version": "3.11.7"
  }
 },
 "nbformat": 4,
 "nbformat_minor": 2
}
