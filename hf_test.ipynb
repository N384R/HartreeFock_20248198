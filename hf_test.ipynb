{
 "cells": [
  {
   "cell_type": "code",
   "execution_count": 1,
   "metadata": {},
   "outputs": [
    {
     "name": "stdout",
     "output_type": "stream",
     "text": [
      "[[1.       0.728649]\n",
      " [0.728649 1.      ]]\n",
      "[{'symbol': 'H', 'coord': (0.0, 0.0, 0.0)}, {'symbol': 'H', 'coord': (0.0, 0.0, 1.2)}]\n",
      "{'alpha': array([[3.42525091, 0.62391373, 0.1688554 ],\n",
      "       [3.42525091, 0.62391373, 0.1688554 ]]), 'd': array([[0.15432897, 0.53532814, 0.44463454],\n",
      "       [0.15432897, 0.53532814, 0.44463454]])}\n"
     ]
    }
   ],
   "source": [
    "from quantum_calculation.hartree_fock import HartreeFock\n",
    "\n",
    "H2 = 'H 0.0 0.0 0.0; H 0.0 0.0 1.2'\n",
    "hf = HartreeFock(H2, 'sto-3g')\n",
    "print(hf.overlap_integral)\n",
    "print(hf.coordinates)\n",
    "print(hf.basis_functions)"
   ]
  },
  {
   "cell_type": "code",
   "execution_count": null,
   "metadata": {},
   "outputs": [],
   "source": [
    "from quantum_calculation.hartree_fock import HartreeFock\n",
    "\n",
    "H2 = 'H 0.0 0.0 0.0; H 0.0 0.0 1.2'\n",
    "hf = HartreeFock(H2, '6-31g')\n",
    "print(hf.overlap_integral)\n",
    "print(hf.coordinates)\n",
    "print(hf.basis_functions)"
   ]
  },
  {
   "cell_type": "code",
   "execution_count": 2,
   "metadata": {},
   "outputs": [
    {
     "name": "stdout",
     "output_type": "stream",
     "text": [
      "Basis set: 6-31G\n",
      "H (Charge: 1): {'S3': array([[18.73113696,  0.0334946 ],\n",
      "       [ 2.82539437,  0.23472695],\n",
      "       [ 0.64012169,  0.81375733]]), 'S1': array([[0.16127776, 1.        ]])}\n"
     ]
    }
   ],
   "source": [
    "from quantum_calculation.basis_set.basis_set import BasisSet\n",
    "\n",
    "\n",
    "basis_set = BasisSet('6-31G')\n",
    "basis_set.show_basis_set()"
   ]
  },
  {
   "cell_type": "code",
   "execution_count": 3,
   "metadata": {},
   "outputs": [
    {
     "name": "stdout",
     "output_type": "stream",
     "text": [
      "[[1.       0.728649]\n",
      " [0.728649 1.      ]]\n"
     ]
    }
   ],
   "source": [
    "from quantum_calculation.basis_set.basis_set import BasisSet\n",
    "from quantum_calculation.hartree_fock import HartreeFock\n",
    "\n",
    "\n",
    "H2 = 'H 0.0 0.0 0.0; H 0.0 0.0 1.2'\n",
    "hf = HartreeFock(H2, '6-31g')\n",
    "print(hf.overlap_integral)"
   ]
  }
 ],
 "metadata": {
  "kernelspec": {
   "display_name": "base",
   "language": "python",
   "name": "python3"
  },
  "language_info": {
   "codemirror_mode": {
    "name": "ipython",
    "version": 3
   },
   "file_extension": ".py",
   "mimetype": "text/x-python",
   "name": "python",
   "nbconvert_exporter": "python",
   "pygments_lexer": "ipython3",
   "version": "3.11.7"
  }
 },
 "nbformat": 4,
 "nbformat_minor": 2
}
